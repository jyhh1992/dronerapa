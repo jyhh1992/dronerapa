{
 "cells": [
  {
   "cell_type": "code",
   "execution_count": null,
   "id": "3d8b5844",
   "metadata": {},
   "outputs": [],
   "source": [
    "import random as ra\n",
    "\n",
    "com_num = ra.randint(100,999)\n",
    "\n",
    "num_str = str(com_num)\n",
    "print(num_str)\n",
    "type(num_str)\n",
    "\n",
    "def inputnum():\n",
    "    while True:\n",
    "\n",
    "        num=input('숫자입력')\n",
    "        if len(num) == 3:\n",
    "            return num\n",
    "        else:\n",
    "            print('3자리 수를 입력하세요')\n",
    "\n"
   ]
  },
  {
   "cell_type": "code",
   "execution_count": null,
   "id": "1f67703a",
   "metadata": {},
   "outputs": [],
   "source": [
    "def inputnum():\n",
    "    while True:\n",
    "\n",
    "        num=input('숫자입력')\n",
    "        if len(num) == 3:\n",
    "            return num\n",
    "        else:\n",
    "            print('3자리 수를 입력하세요')\n",
    "\n",
    "            \n",
    "N = inputnum()\n",
    "type(N)"
   ]
  },
  {
   "cell_type": "code",
   "execution_count": 2,
   "id": "2e97dec8",
   "metadata": {},
   "outputs": [
    {
     "name": "stdout",
     "output_type": "stream",
     "text": [
      "['4', '1', '2']\n"
     ]
    }
   ],
   "source": [
    "import random\n",
    "# 게임을 위한 랜덤 숫자 생성\n",
    "ran_num = [\"0\", \"0\", \"0\"]\n",
    "ran_num[0] = str(random.randrange(1, 9, 1))\n",
    "ran_num[1] = str(random.randrange(1, 9, 1))\n",
    "ran_num[2] = str(random.randrange(1, 9, 1))\n",
    "while (ran_num[0] == ran_num[1]):\n",
    "    ran_num[1] = str(random.randrange(1, 9, 1))\n",
    "    break\n",
    "while (ran_num[0] == ran_num[2] or ran_num[1] == ran_num[2]):\n",
    "    ran_num[2] = str(random.randrange(1, 9, 1))\n",
    "    break\n",
    "\n",
    "print(ran_num)"
   ]
  }
 ],
 "metadata": {
  "kernelspec": {
   "display_name": "Python 3 (ipykernel)",
   "language": "python",
   "name": "python3"
  },
  "language_info": {
   "codemirror_mode": {
    "name": "ipython",
    "version": 3
   },
   "file_extension": ".py",
   "mimetype": "text/x-python",
   "name": "python",
   "nbconvert_exporter": "python",
   "pygments_lexer": "ipython3",
   "version": "3.8.10"
  }
 },
 "nbformat": 4,
 "nbformat_minor": 5
}
